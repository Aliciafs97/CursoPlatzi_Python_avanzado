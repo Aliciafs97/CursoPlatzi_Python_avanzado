{
 "cells": [
  {
   "cell_type": "code",
   "execution_count": 103,
   "metadata": {},
   "outputs": [],
   "source": [
    "#Para cambiar a tipado estático\n",
    "from typing import Dict, List \n",
    "from typing import Tuple, Dict, List\n",
    "\n",
    "#Para fecha\n",
    "from datetime import datetime\n",
    "import time\n",
    "import datetime \n",
    "import pytz #Zona horaria"
   ]
  },
  {
   "cell_type": "markdown",
   "metadata": {},
   "source": [
    "## Tipado estático "
   ]
  },
  {
   "cell_type": "markdown",
   "metadata": {},
   "source": [
    "Python es un lenguaje **dinámico**, es decir, el error salta al ejecutarse el código, no antes. Por lo tanto, para evitar que esto ocurra podemos escribir el código de una forma que sea estático, es decir, que el error salte directamente antes de su ejecución."
   ]
  },
  {
   "cell_type": "code",
   "execution_count": 88,
   "metadata": {},
   "outputs": [
    {
     "name": "stdout",
     "output_type": "stream",
     "text": [
      "None\n"
     ]
    }
   ],
   "source": [
    "def suma(a: int, b: int) -> int:\n",
    "    a + b\n",
    "\n",
    "print(suma('1', '2'))"
   ]
  },
  {
   "cell_type": "code",
   "execution_count": 89,
   "metadata": {},
   "outputs": [],
   "source": [
    "positives: List[int] = [1,2,3,4,5]\n",
    "\n",
    "users: Dict [str, int] = {\n",
    "\t\"argentina\": 1,\n",
    "\t\"mexico\": 34,\n",
    "\t\"colombia\": 45,\n",
    "}\n",
    "\n",
    "countries: List[Dict[str, str]] = [\n",
    "\t{\n",
    "\t\t\"name\" : \"Argentina\",\n",
    "\t\t\"people\" : \"45000\",\n",
    "\t},\n",
    "\t{\n",
    "\t\t\"name\" : \"México\",\n",
    "\t\t\"people\" : \"9000000\",\n",
    "\t},\n",
    "\t{\n",
    "\t\t\"name\" : \"Colombia\",\n",
    "\t\t\"people\" : \"99999999999\",\n",
    "\t}\n",
    "]"
   ]
  },
  {
   "cell_type": "code",
   "execution_count": 90,
   "metadata": {},
   "outputs": [],
   "source": [
    "CoordinatesType = List[Dict[str, Tuple[int, int]]]\n",
    "\n",
    "coordinates: CoordinatesType = [\n",
    "\t{\n",
    "\t\t\"coord1\": (1,2),\n",
    "\t\t\"coord2\": (3,5)\n",
    "\t},\n",
    "\t{\n",
    "\t\t\"coord1\": (0,1),\n",
    "\t\t\"coord2\": (2,5)\n",
    "\t}\n",
    "]"
   ]
  },
  {
   "cell_type": "code",
   "execution_count": 91,
   "metadata": {},
   "outputs": [
    {
     "data": {
      "text/plain": [
       "[{'coord1': (1, 2), 'coord2': (3, 5)}, {'coord1': (0, 1), 'coord2': (2, 5)}]"
      ]
     },
     "execution_count": 91,
     "metadata": {},
     "output_type": "execute_result"
    }
   ],
   "source": [
    "coordinates"
   ]
  },
  {
   "cell_type": "markdown",
   "metadata": {},
   "source": [
    "## Closures"
   ]
  },
  {
   "cell_type": "markdown",
   "metadata": {},
   "source": [
    "Es una forma de acceder a variables de otros scopes(variables) a través de una nested function. Se retorna la nested function y esta recuerda el valor que imprime, aunque a la hora de ejecutarla no este dentro de su alcance(variable global o local)."
   ]
  },
  {
   "cell_type": "markdown",
   "metadata": {},
   "source": [
    "Reglas para encontrar un closure:\n",
    "\n",
    "    - debemos tener una nested function\n",
    "    - la nested function debe referenciar un valor de un scope superior\n",
    "    - la función que envuelve la nested debe retornarla también\n",
    "\n",
    "Cuando tenemos una clase que tiene solo un método.\n",
    "Cuando trabajamos con decoradores."
   ]
  },
  {
   "cell_type": "code",
   "execution_count": 92,
   "metadata": {},
   "outputs": [],
   "source": [
    "def make_repeater_of(n): #Función envolvente\n",
    "    def repeater(string): #Nested function\n",
    "        assert type(string) == str, \"Solo puedes utilizar caracteres\"  #Con esta línea de código estamos afirmando que lo que nos va a llegar va a ser un string, sino nos va a devolver un error poniendo esa frase.\n",
    "        return string * n\n",
    "    return repeater\n",
    "\n",
    "\n",
    "def run():\n",
    "    repeat_5 = make_repeater_of(5) #Se ejecuta la función envolvente con el número 5 como valor de n y hace lo de la función de arriba. Es decir, va a multiplicar el string que metamos con la n veces \n",
    "    print(repeat_5('Hola'))"
   ]
  },
  {
   "cell_type": "code",
   "execution_count": 93,
   "metadata": {},
   "outputs": [
    {
     "name": "stdout",
     "output_type": "stream",
     "text": [
      "HolaHolaHolaHolaHola\n"
     ]
    }
   ],
   "source": [
    "run()"
   ]
  },
  {
   "cell_type": "code",
   "execution_count": 98,
   "metadata": {},
   "outputs": [],
   "source": [
    "def division_int(n): #Función envolvente\n",
    "    def division(integer):\n",
    "        assert type(integer) == int, \"Solo puedes utilizar números\" \n",
    "        return integer / n\n",
    "    return division\n",
    "\n",
    "\n",
    "def run_int():\n",
    "    division_2 = division_int(2)  \n",
    "    print(division_2(6))"
   ]
  },
  {
   "cell_type": "code",
   "execution_count": 99,
   "metadata": {},
   "outputs": [
    {
     "name": "stdout",
     "output_type": "stream",
     "text": [
      "3.0\n"
     ]
    }
   ],
   "source": [
    "run_int()"
   ]
  },
  {
   "cell_type": "markdown",
   "metadata": {},
   "source": [
    "## Decoradores"
   ]
  },
  {
   "cell_type": "markdown",
   "metadata": {},
   "source": [
    "Es un closure especial. Un decorador es una función que recibe como parámetro otra función, le añade cosas, la ejecuta y retorna una función diferente."
   ]
  },
  {
   "cell_type": "code",
   "execution_count": 100,
   "metadata": {},
   "outputs": [
    {
     "name": "stdout",
     "output_type": "stream",
     "text": [
      "ALICIA, RECIBISTE UN MENSAJE\n"
     ]
    }
   ],
   "source": [
    "def mayusculas(func):\n",
    "    def envoltura(texto):\n",
    "        return func(texto).upper()\n",
    "    return envoltura\n",
    "\n",
    "@mayusculas\n",
    "def mensaje(nombre):\n",
    "    return f'{nombre}, recibiste un mensaje'\n",
    "\n",
    "print (mensaje('Alicia'))"
   ]
  },
  {
   "cell_type": "markdown",
   "metadata": {},
   "source": [
    "- Ejercicio práctico"
   ]
  },
  {
   "cell_type": "markdown",
   "metadata": {},
   "source": [
    "La nested function recibe los mismos parámetros que la función que estoy decorando. Por lo tanto tendremos que hacer 'algo' para que si cada función tiene un número de parámetros diferentes puedan ejecutarse sin ningún error. "
   ]
  },
  {
   "cell_type": "code",
   "execution_count": 139,
   "metadata": {},
   "outputs": [],
   "source": [
    "from datetime import datetime\n",
    "def execution_time(func): #Decorador para saber cuanto tarda en ejecutarse una función\n",
    "    def wrapper(*args, **kwargs): #Función de envoltura, usamos args y kargs para que pueda recibir X parámetros.\n",
    "        inicial_time = datetime.now() #Esto devuelve justo la fecha y hora en el momento de ejecutarse esta la línea de código\n",
    "        func(*args, **kwargs) #Ejecutar la función\n",
    "        final_time = datetime.now()\n",
    "        time_elapsed = final_time - inicial_time\n",
    "        print('Pasaron ', time_elapsed.total_seconds(), ' segundos')\n",
    "    return wrapper\n",
    "\n",
    "#Si no ponemos un decorador, al llamar a la función no pasaría nada \n",
    "@execution_time #Decorador\n",
    "def random_func():\n",
    "    for _ in range(1, 1000000): #El guión bajo se pone cuando no nos interesa la varaible de cada una de las vueltas\n",
    "        pass\n",
    "\n",
    "@execution_time\n",
    "def suma(a: int, b: int) -> int:\n",
    "    return a + b\n",
    "\n",
    "def welcome(name='Alicia'):\n",
    "    print('Hola ' + name)"
   ]
  },
  {
   "cell_type": "code",
   "execution_count": 140,
   "metadata": {},
   "outputs": [
    {
     "name": "stdout",
     "output_type": "stream",
     "text": [
      "Pasaron  0.009996  segundos\n",
      "Pasaron  0.0  segundos\n",
      "Hola Alicia\n"
     ]
    }
   ],
   "source": [
    "random_func()\n",
    "suma(5,5)\n",
    "welcome('Alicia')"
   ]
  },
  {
   "cell_type": "markdown",
   "metadata": {},
   "source": [
    "## Iteradores"
   ]
  },
  {
   "cell_type": "markdown",
   "metadata": {},
   "source": [
    "Los **iterables** son todos aquellos objetos que podemos recorrer en un ciclo como por ejemplo las listas o cadena de caractéres. Lo que ocurre es que ese objeto se convierte en **iterador** y entonces si se podría recorrer."
   ]
  },
  {
   "cell_type": "markdown",
   "metadata": {},
   "source": [
    "Con **iter()** convertimos el objeto en iterador y con la función **next()** accedemos al siguiente elemento del iterador. Pero esto no funcionaria si tuvieramos una iterable super largo. Por lo que tendríamos que hacer un ciclo while infinito con el booleano True con try y except"
   ]
  },
  {
   "cell_type": "markdown",
   "metadata": {},
   "source": [
    "Ventajas:\n",
    "- Nos ahorra recursos porque se puede almacenar secuencias completas. Puedo guardar lo que quiera.\n",
    "- Ocupan poca memoria."
   ]
  },
  {
   "cell_type": "markdown",
   "metadata": {},
   "source": [
    "- Ejercicio práctico "
   ]
  },
  {
   "cell_type": "code",
   "execution_count": 107,
   "metadata": {},
   "outputs": [],
   "source": [
    "class FiboIter():\n",
    "\n",
    "    #Podemos obviar def __init__ ya que no tenemos ningún atributo con el que inicializar\n",
    "    def __inter__(self): #En esta función 'tunder iter' definiimos los elementos necesarios para que el iterador funcione y retornar self\n",
    "        self.n1 = 0\n",
    "        self.n2 = 1\n",
    "        self.counter = 0\n",
    "        return self\n",
    "\n",
    "\n",
    "    def __next__(self):\n",
    "        if self.counter == 0:\n",
    "            self.counter += 1\n",
    "            return self.n1\n",
    "        elif self.counter == 1:\n",
    "            self.counter += 1\n",
    "            return self.n2\n",
    "        else:  #Si no se cumplen ninguna de las anteriores entonces en este else lo que pasa es que va a ir pasando un número a la derecha\n",
    "            self.aux = self.n1 + self.n2 \n",
    "            #self.n1 = self.n2\n",
    "            #self.n2 = self.aux\n",
    "            self.n1, self.n2 = self.n2, self.aux #Esta línea contiene lo mismo que en las dos anteriores pero de manera resumida, esto se llama swapping. #El primer elemento va a tener el mismo valor que el primer elemento despues del igual (=) y el segundo elemento va a tener el mismo valor que el segundo elemento después del igual(=).\n",
    "            self.counter += 1\n",
    "            return self.aux                                    \n",
    "\n"
   ]
  },
  {
   "cell_type": "code",
   "execution_count": null,
   "metadata": {},
   "outputs": [],
   "source": [
    "if __name__ == '__main__':\n",
    "    fibonacci = FiboIter()\n",
    "    for element in fibonacci:\n",
    "        print(element)\n",
    "        time.sleep(1) #Un segundo de demora en la ejecucción"
   ]
  },
  {
   "cell_type": "markdown",
   "metadata": {},
   "source": [
    "## Generadores"
   ]
  },
  {
   "cell_type": "markdown",
   "metadata": {},
   "source": [
    "Son funciones que guardan un estado. Es un iterador pero escrito de forma más simple y elegante."
   ]
  },
  {
   "cell_type": "markdown",
   "metadata": {},
   "source": [
    "**yield** es lo mismo que **return**, la diferencia es que yield en vez de terminar la función, lo que hace es pausarla. Por lo que si vuelves a llamar a la función, en vez de empezar desde el principio, empieza desde ese yield."
   ]
  },
  {
   "cell_type": "markdown",
   "metadata": {},
   "source": [
    "Ventajas:\n",
    "- Es más facil de escribir que un iterador.\n",
    "- Ahorro memoria\n",
    "- Ahorro tiempo\n",
    "- Puedo guardar secuencias infinitas"
   ]
  },
  {
   "cell_type": "code",
   "execution_count": 109,
   "metadata": {},
   "outputs": [],
   "source": [
    "#Usamos funciones en vez de clases cuando trabajamos con generadores.\n",
    "def fibo_gen():\n",
    "    n1 = 0\n",
    "    n2 = 1\n",
    "    counter = 0\n",
    "    while True: #Ciclo infinito\n",
    "        if counter == 0:\n",
    "            counter += 1\n",
    "            yield n1\n",
    "        elif counter == 1:\n",
    "            counter += 1\n",
    "            yield n2\n",
    "        else:\n",
    "            aux = n1 +n2\n",
    "            n1, n2 = n2, aux\n",
    "            counter += 1\n",
    "            yield aux"
   ]
  },
  {
   "cell_type": "code",
   "execution_count": null,
   "metadata": {},
   "outputs": [],
   "source": [
    "if __name__ == '__main__':\n",
    "    fibonacci = fibo_gen()\n",
    "    for element in fibonacci:\n",
    "        print(element)\n",
    "        time.sleep(1)"
   ]
  },
  {
   "cell_type": "markdown",
   "metadata": {},
   "source": [
    "- Ahora haremos lo mismo pero hasta un máximo, no la secuencia infinita."
   ]
  },
  {
   "cell_type": "code",
   "execution_count": 111,
   "metadata": {},
   "outputs": [],
   "source": [
    "def fibo_gen(stop: int):\n",
    "    n1 = 0\n",
    "    n2 = 1\n",
    "    counter = 0\n",
    "    \n",
    "    while True: #Ciclo infinito\n",
    "        if counter == 0:\n",
    "            counter += 1\n",
    "            yield n1\n",
    "        elif counter == 1:\n",
    "            counter += 1\n",
    "            yield n2\n",
    "        else:\n",
    "            aux = n1 +n2\n",
    "            if not stop or aux <= stop:\n",
    "                n1, n2 = n2, aux\n",
    "                counter += 1\n",
    "                yield aux\n",
    "            else:\n",
    "                break"
   ]
  },
  {
   "cell_type": "code",
   "execution_count": 112,
   "metadata": {},
   "outputs": [
    {
     "name": "stdout",
     "output_type": "stream",
     "text": [
      "0\n",
      "1\n",
      "1\n",
      "2\n",
      "3\n",
      "5\n",
      "8\n",
      "13\n",
      "21\n",
      "34\n",
      "55\n",
      "89\n",
      "144\n",
      "233\n",
      "377\n",
      "610\n",
      "987\n",
      "1597\n"
     ]
    }
   ],
   "source": [
    "if __name__ == '__main__':\n",
    "    fibonacci = fibo_gen(2000)\n",
    "    for element in fibonacci:\n",
    "        print(element)\n",
    "        time.sleep(1)"
   ]
  },
  {
   "cell_type": "markdown",
   "metadata": {},
   "source": [
    "## Sets"
   ]
  },
  {
   "cell_type": "markdown",
   "metadata": {},
   "source": [
    "Es una colección desordenada de elementos únicos e inmutables."
   ]
  },
  {
   "cell_type": "markdown",
   "metadata": {},
   "source": [
    "Convertir a set"
   ]
  },
  {
   "cell_type": "code",
   "execution_count": 113,
   "metadata": {},
   "outputs": [
    {
     "data": {
      "text/plain": [
       "{1, 2, 3, 4, 5}"
      ]
     },
     "execution_count": 113,
     "metadata": {},
     "output_type": "execute_result"
    }
   ],
   "source": [
    "my_list = [1, 1, 2, 3, 4, 4, 5]\n",
    "my_set = set(my_list)\n",
    "my_set"
   ]
  },
  {
   "cell_type": "code",
   "execution_count": 114,
   "metadata": {},
   "outputs": [
    {
     "data": {
      "text/plain": [
       "{1, 'Hola'}"
      ]
     },
     "execution_count": 114,
     "metadata": {},
     "output_type": "execute_result"
    }
   ],
   "source": [
    "my_tuple = ('Hola', 'Hola', 1)\n",
    "my_set2 = set(my_tuple)\n",
    "my_set2"
   ]
  },
  {
   "cell_type": "markdown",
   "metadata": {},
   "source": [
    "- Como vemos en los dos ejemplos, al convertirlo en set los elementos dublicados se eliminan y el orden es distinto."
   ]
  },
  {
   "cell_type": "markdown",
   "metadata": {},
   "source": [
    "Añadir elementos con **add** o **update**"
   ]
  },
  {
   "cell_type": "code",
   "execution_count": 115,
   "metadata": {},
   "outputs": [
    {
     "data": {
      "text/plain": [
       "{1, 2, 3, 4}"
      ]
     },
     "execution_count": 115,
     "metadata": {},
     "output_type": "execute_result"
    }
   ],
   "source": [
    "my_set = {1,2,3}\n",
    "my_set.add(4)\n",
    "my_set"
   ]
  },
  {
   "cell_type": "code",
   "execution_count": 116,
   "metadata": {},
   "outputs": [
    {
     "data": {
      "text/plain": [
       "{1, 2, 3, 4, 6, 7, 8}"
      ]
     },
     "execution_count": 116,
     "metadata": {},
     "output_type": "execute_result"
    }
   ],
   "source": [
    "my_set.update((1,7,2), {6,8})\n",
    "my_set"
   ]
  },
  {
   "cell_type": "markdown",
   "metadata": {},
   "source": [
    "Borrar elementos con **remove** o **discard**"
   ]
  },
  {
   "cell_type": "code",
   "execution_count": 117,
   "metadata": {},
   "outputs": [
    {
     "data": {
      "text/plain": [
       "{2, 3, 4, 5, 6, 7}"
      ]
     },
     "execution_count": 117,
     "metadata": {},
     "output_type": "execute_result"
    }
   ],
   "source": [
    "my_set = {1,2,3,4,5,6,7}\n",
    "my_set.discard(1)\n",
    "my_set"
   ]
  },
  {
   "cell_type": "code",
   "execution_count": 118,
   "metadata": {},
   "outputs": [
    {
     "data": {
      "text/plain": [
       "{3, 4, 5, 6, 7}"
      ]
     },
     "execution_count": 118,
     "metadata": {},
     "output_type": "execute_result"
    }
   ],
   "source": [
    "my_set.remove(2)\n",
    "my_set"
   ]
  },
  {
   "cell_type": "code",
   "execution_count": 119,
   "metadata": {},
   "outputs": [
    {
     "data": {
      "text/plain": [
       "{3, 4, 5, 6, 7}"
      ]
     },
     "execution_count": 119,
     "metadata": {},
     "output_type": "execute_result"
    }
   ],
   "source": [
    "my_set.discard(10) #Con este método al intentar eliminar un elemento inexistente no te da error, te devuelve el mismo resultado\n",
    "my_set"
   ]
  },
  {
   "cell_type": "code",
   "execution_count": 120,
   "metadata": {},
   "outputs": [
    {
     "ename": "KeyError",
     "evalue": "10",
     "output_type": "error",
     "traceback": [
      "\u001b[1;31m---------------------------------------------------------------------------\u001b[0m",
      "\u001b[1;31mKeyError\u001b[0m                                  Traceback (most recent call last)",
      "\u001b[1;32mc:\\Users\\mante\\Desktop\\ALICIA\\Python\\python avanzado.ipynb Cell 51\u001b[0m in \u001b[0;36m<cell line: 1>\u001b[1;34m()\u001b[0m\n\u001b[1;32m----> <a href='vscode-notebook-cell:/c%3A/Users/mante/Desktop/ALICIA/Python/python%20avanzado.ipynb#Y106sZmlsZQ%3D%3D?line=0'>1</a>\u001b[0m my_set\u001b[39m.\u001b[39;49mremove(\u001b[39m10\u001b[39;49m) \u001b[39m#Como el elemento 10 no existe, con remove devuelve un error.\u001b[39;00m\n\u001b[0;32m      <a href='vscode-notebook-cell:/c%3A/Users/mante/Desktop/ALICIA/Python/python%20avanzado.ipynb#Y106sZmlsZQ%3D%3D?line=1'>2</a>\u001b[0m my_set\n",
      "\u001b[1;31mKeyError\u001b[0m: 10"
     ]
    }
   ],
   "source": [
    "my_set.remove(10) #Como el elemento 10 no existe, con remove devuelve un error.\n",
    "my_set"
   ]
  },
  {
   "cell_type": "markdown",
   "metadata": {},
   "source": [
    "Para eliminar un elemento aleatorio"
   ]
  },
  {
   "cell_type": "code",
   "execution_count": null,
   "metadata": {},
   "outputs": [
    {
     "data": {
      "text/plain": [
       "{2, 3, 4, 5, 6, 7, 8, 9, 10}"
      ]
     },
     "execution_count": 36,
     "metadata": {},
     "output_type": "execute_result"
    }
   ],
   "source": [
    "my_set = {1,2,3,4,5,6,7,8,9,10}\n",
    "my_set.pop()\n",
    "my_set"
   ]
  },
  {
   "cell_type": "code",
   "execution_count": 121,
   "metadata": {},
   "outputs": [
    {
     "data": {
      "text/plain": [
       "set()"
      ]
     },
     "execution_count": 121,
     "metadata": {},
     "output_type": "execute_result"
    }
   ],
   "source": [
    "#Para borrarlo todo\n",
    "my_set.clear()\n",
    "my_set"
   ]
  },
  {
   "cell_type": "markdown",
   "metadata": {},
   "source": [
    "Operaciones con sets"
   ]
  },
  {
   "cell_type": "markdown",
   "metadata": {},
   "source": [
    "**Unión**: Es el resultado de combinar todos los elementos de los conjuntos. En caso de haber elementos repetidos, estos se eliminan. Se utiliza el operador “pipe” ( | ).\n",
    "\n",
    "**Intersección**: Esta operación nos da como resultados los elementos en común de los conjuntos. Utilizamos el operador “ampersand” ( & ).\n",
    "\n",
    "**Diferencia**: Tendremos como resultado los valores que no se repiten del primer set y no mostrara los que tienen en común o los que son diferentes del segundo set. Se usa el operador “menos” ( - ).\n",
    "\n",
    "**Diferencia Simétrica**: Es la operación opuesta a la Intersección, es decir, obtenemos todos los elementos de ambos sets, menos los que se comparten. El operador “caret” ( ^ ) es el utilizado para esta operación."
   ]
  },
  {
   "cell_type": "markdown",
   "metadata": {},
   "source": [
    "- Ejemplos:"
   ]
  },
  {
   "cell_type": "code",
   "execution_count": 122,
   "metadata": {},
   "outputs": [],
   "source": [
    "my_set1 = {1,5,8,4,2}\n",
    "my_set2 = {5,8,9,6,3,7}"
   ]
  },
  {
   "cell_type": "code",
   "execution_count": 123,
   "metadata": {},
   "outputs": [
    {
     "data": {
      "text/plain": [
       "{1, 2, 3, 4, 5, 6, 7, 8, 9}"
      ]
     },
     "execution_count": 123,
     "metadata": {},
     "output_type": "execute_result"
    }
   ],
   "source": [
    "my_set = my_set1 | my_set2\n",
    "my_set"
   ]
  },
  {
   "cell_type": "code",
   "execution_count": 124,
   "metadata": {},
   "outputs": [
    {
     "data": {
      "text/plain": [
       "{5, 8}"
      ]
     },
     "execution_count": 124,
     "metadata": {},
     "output_type": "execute_result"
    }
   ],
   "source": [
    "my_set = my_set1 & my_set2\n",
    "my_set"
   ]
  },
  {
   "cell_type": "code",
   "execution_count": 125,
   "metadata": {},
   "outputs": [
    {
     "data": {
      "text/plain": [
       "{1, 2, 4}"
      ]
     },
     "execution_count": 125,
     "metadata": {},
     "output_type": "execute_result"
    }
   ],
   "source": [
    "my_set = my_set1 - my_set2\n",
    "my_set"
   ]
  },
  {
   "cell_type": "code",
   "execution_count": 126,
   "metadata": {},
   "outputs": [
    {
     "data": {
      "text/plain": [
       "{1, 2, 3, 4, 6, 7, 9}"
      ]
     },
     "execution_count": 126,
     "metadata": {},
     "output_type": "execute_result"
    }
   ],
   "source": [
    "my_set = my_set1 ^ my_set2\n",
    "my_set"
   ]
  },
  {
   "cell_type": "markdown",
   "metadata": {},
   "source": [
    "## Eliminar repetidos de una lista"
   ]
  },
  {
   "cell_type": "code",
   "execution_count": 127,
   "metadata": {},
   "outputs": [],
   "source": [
    "def remove_duplicates(some_list): #Lista con elementos repetidos\n",
    "    without_duplicates = [] #Lista con los elementos sin repetir\n",
    "    for element in some_list:\n",
    "        if element not in without_duplicates:\n",
    "            without_duplicates.append(element)\n",
    "    return without_duplicates\n",
    "\n",
    "def run(): #Función principal que va a ejecutar el código principal\n",
    "    random_list = [1,1,2,2,4]\n",
    "    print(remove_duplicates(random_list))"
   ]
  },
  {
   "cell_type": "code",
   "execution_count": 128,
   "metadata": {},
   "outputs": [
    {
     "name": "stdout",
     "output_type": "stream",
     "text": [
      "[1, 2, 4]\n"
     ]
    }
   ],
   "source": [
    "if __name__ == '__main__':\n",
    "    run()"
   ]
  },
  {
   "cell_type": "markdown",
   "metadata": {},
   "source": [
    "- Ahora lo haremos con sets"
   ]
  },
  {
   "cell_type": "code",
   "execution_count": 129,
   "metadata": {},
   "outputs": [],
   "source": [
    "def remove_duplicates(some_list): #Lista con elementos repetidos\n",
    "    without_duplicates = [] #Lista con los elementos sin repetir\n",
    "    for element in some_list:\n",
    "        if element not in without_duplicates:\n",
    "            without_duplicates.append(element)\n",
    "    return without_duplicates\n",
    "\n",
    "def remove_duplicates_with_sets(some_list):\n",
    "    return list(set(some_list))\n",
    "\n",
    "def run(): #Función principal que va a ejecutar el código principal\n",
    "    random_list = {1,1,2,2,4}\n",
    "    print(remove_duplicates(random_list))"
   ]
  },
  {
   "cell_type": "code",
   "execution_count": 130,
   "metadata": {},
   "outputs": [
    {
     "name": "stdout",
     "output_type": "stream",
     "text": [
      "[1, 2, 4]\n"
     ]
    }
   ],
   "source": [
    "if __name__ == '__main__':\n",
    "    run()"
   ]
  },
  {
   "cell_type": "markdown",
   "metadata": {},
   "source": [
    "## Manejo de fechas"
   ]
  },
  {
   "cell_type": "code",
   "execution_count": 131,
   "metadata": {},
   "outputs": [
    {
     "data": {
      "text/plain": [
       "datetime.datetime(2022, 8, 11, 12, 3, 5, 989205)"
      ]
     },
     "execution_count": 131,
     "metadata": {},
     "output_type": "execute_result"
    }
   ],
   "source": [
    "my_time = datetime.datetime.now()\n",
    "my_time"
   ]
  },
  {
   "cell_type": "code",
   "execution_count": 132,
   "metadata": {},
   "outputs": [
    {
     "data": {
      "text/plain": [
       "datetime.date(2022, 8, 11)"
      ]
     },
     "execution_count": 132,
     "metadata": {},
     "output_type": "execute_result"
    }
   ],
   "source": [
    "my_day = datetime.date.today() #mm/dd/yyyy\n",
    "my_day"
   ]
  },
  {
   "cell_type": "markdown",
   "metadata": {},
   "source": [
    "Formateo de fechas"
   ]
  },
  {
   "cell_type": "code",
   "execution_count": 135,
   "metadata": {},
   "outputs": [
    {
     "name": "stdout",
     "output_type": "stream",
     "text": [
      "Formato España: 11/08/2022\n"
     ]
    }
   ],
   "source": [
    "from datetime import datetime\n",
    "#Para hacer dd/mm/yyyy\n",
    "\n",
    "my_datetime = datetime.now()\n",
    "my_date = my_datetime.strftime('%d/%m/%Y')\n",
    "print(f'Formato España: {my_date}')"
   ]
  },
  {
   "cell_type": "markdown",
   "metadata": {},
   "source": [
    "## Zonas horarias"
   ]
  },
  {
   "cell_type": "code",
   "execution_count": 136,
   "metadata": {},
   "outputs": [
    {
     "name": "stdout",
     "output_type": "stream",
     "text": [
      "España:  11/08/2022, 12:03:30\n"
     ]
    }
   ],
   "source": [
    "spain_timezone = pytz.timezone('Europe/Madrid')\n",
    "spain_date = datetime.now(spain_timezone)\n",
    "print('España: ', spain_date.strftime('%d/%m/%Y, %H:%M:%S'))"
   ]
  }
 ],
 "metadata": {
  "kernelspec": {
   "display_name": "Python 3.10.5 64-bit",
   "language": "python",
   "name": "python3"
  },
  "language_info": {
   "codemirror_mode": {
    "name": "ipython",
    "version": 3
   },
   "file_extension": ".py",
   "mimetype": "text/x-python",
   "name": "python",
   "nbconvert_exporter": "python",
   "pygments_lexer": "ipython3",
   "version": "3.10.5"
  },
  "orig_nbformat": 4,
  "vscode": {
   "interpreter": {
    "hash": "d3e10ef16274dd72e574b8fa73b58450b957d8421a2901baded3cca26fcf5dda"
   }
  }
 },
 "nbformat": 4,
 "nbformat_minor": 2
}
